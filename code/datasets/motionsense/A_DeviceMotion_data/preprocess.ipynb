{
 "cells": [
  {
   "cell_type": "code",
   "execution_count": 5,
   "metadata": {},
   "outputs": [],
   "source": [
    "import os\n",
    "import numpy as np\n",
    "import pandas as pd\n",
    "import torch\n",
    "from sklearn.model_selection import train_test_split"
   ]
  },
  {
   "cell_type": "code",
   "execution_count": 6,
   "metadata": {},
   "outputs": [],
   "source": [
    "root_path = './'\n",
    "label_dict = {'dws': 0, 'ups': 1, 'wlk': 2, 'jog': 3, 'sit': 4, 'std': 5}"
   ]
  },
  {
   "cell_type": "code",
   "execution_count": 16,
   "metadata": {},
   "outputs": [],
   "source": [
    "def process_file(file_path, multi=1):\n",
    "    df = pd.read_csv(file_path, index_col=0)\n",
    "    df = pd.concat([df.iloc[:,9:12], df.iloc[:,3:6]], axis=1)\n",
    "    # print(df)\n",
    "    data = df.to_numpy()\n",
    "    # print(data.shape)\n",
    "    # print(data)\n",
    "    X = []\n",
    "    if data.shape[0] < 500:\n",
    "        print(f\"file {file_path} is too short\")\n",
    "        return None\n",
    "    for i in range(0, data.shape[0] - 500, 500):\n",
    "        # print(f'i = {i}, multi = {multi}')\n",
    "        X.append(data[i:i+500].T)\n",
    "    # print([i.shape for i in X])\n",
    "    return X\n",
    "\n",
    "# process_file('./ups_3/sub_1.csv')"
   ]
  },
  {
   "cell_type": "code",
   "execution_count": 17,
   "metadata": {},
   "outputs": [
    {
     "name": "stdout",
     "output_type": "stream",
     "text": [
      "file ./ups_12/sub_13.csv is too short\n",
      "file ./dws_11/sub_24.csv is too short\n"
     ]
    }
   ],
   "source": [
    "X_samelen = []\n",
    "Y_samelen = []\n",
    "for _, label_dirs, _ in os.walk(root_path):\n",
    "    for label_dir in label_dirs:\n",
    "        if \"Preprocess\" in label_dir:\n",
    "            continue\n",
    "        label = label_dict[label_dir.split(\"_\")[0]]\n",
    "        for _, __, files in os.walk(os.path.join(root_path, label_dir)):\n",
    "            for file in files:\n",
    "                file_path = os.path.join(root_path, label_dir, file)\n",
    "                # print(file_path)\n",
    "                X = process_file(file_path)\n",
    "                if X is None:\n",
    "                    continue\n",
    "                Y = np.full((len(X)), label)\n",
    "                X_samelen.extend(X)\n",
    "                Y_samelen.extend(Y)"
   ]
  },
  {
   "cell_type": "code",
   "execution_count": 23,
   "metadata": {},
   "outputs": [
    {
     "name": "stdout",
     "output_type": "stream",
     "text": [
      "(2635, 6, 500) (2635,)\n",
      "[1 1 1 ... 2 2 2]\n"
     ]
    }
   ],
   "source": [
    "X_final = np.stack(X_samelen, axis=0)\n",
    "Y_final = np.stack(Y_samelen, axis=0)\n",
    "print(X_final.shape, Y_final.shape)\n",
    "# print(X_final)\n",
    "print(Y_final)"
   ]
  },
  {
   "cell_type": "code",
   "execution_count": 24,
   "metadata": {},
   "outputs": [],
   "source": [
    "output_path = './PreprocessedData/'\n",
    "if not os.path.exists(output_path):\n",
    "    os.makedirs(output_path)\n",
    "# save X_final and Y_final as npy files\n",
    "np.save(os.path.join(output_path, 'total_X.npy'), X_final)\n",
    "np.save(os.path.join(output_path, 'total_Y.npy'), Y_final)"
   ]
  },
  {
   "cell_type": "code",
   "execution_count": 25,
   "metadata": {},
   "outputs": [
    {
     "name": "stdout",
     "output_type": "stream",
     "text": [
      "(1844, 6, 500)\n",
      "(791, 6, 500)\n",
      "(1844,)\n",
      "(791,)\n"
     ]
    }
   ],
   "source": [
    "X_train, X_test, Y_train, Y_test = train_test_split(X_final, Y_final, train_size=0.7, random_state=42)\n",
    "print(X_train.shape)\n",
    "print(X_test.shape)\n",
    "print(Y_train.shape)\n",
    "print(Y_test.shape)\n",
    "\n",
    "np.save(os.path.join(output_path, 'X_train.npy'), X_train)\n",
    "np.save(os.path.join(output_path, 'X_test.npy'), X_test)\n",
    "np.save(os.path.join(output_path, 'Y_train.npy'), Y_train)\n",
    "np.save(os.path.join(output_path, 'Y_test.npy'), Y_test)"
   ]
  },
  {
   "cell_type": "code",
   "execution_count": 26,
   "metadata": {},
   "outputs": [
    {
     "name": "stdout",
     "output_type": "stream",
     "text": [
      "True\n",
      "True\n"
     ]
    }
   ],
   "source": [
    "output_path = './PreprocessedData/'\n",
    "# load X_final and Y_final from npy files\n",
    "X_final_load = np.load(os.path.join(output_path, 'total_X.npy'))\n",
    "Y_final_load = np.load(os.path.join(output_path, 'total_Y.npy'))\n",
    "# check if X_final and X_final_load are the same\n",
    "print(np.all(X_final == X_final_load))\n",
    "# check if Y_final and Y_final_load are the same\n",
    "print(np.all(Y_final == Y_final_load))"
   ]
  },
  {
   "cell_type": "code",
   "execution_count": 27,
   "metadata": {},
   "outputs": [
    {
     "name": "stdout",
     "output_type": "stream",
     "text": [
      "True\n",
      "True\n",
      "True\n",
      "True\n"
     ]
    }
   ],
   "source": [
    "output_path = './PreprocessedData/'\n",
    "X_train_load = np.load(os.path.join(output_path, 'X_train.npy'))\n",
    "X_test_load = np.load(os.path.join(output_path, 'X_test.npy'))\n",
    "Y_train_load = np.load(os.path.join(output_path, 'Y_train.npy'))\n",
    "Y_test_load = np.load(os.path.join(output_path, 'Y_test.npy'))\n",
    "# check if X_train and X_train_load are the same\n",
    "print(np.all(X_train == X_train_load))\n",
    "# check if X_test and X_test_load are the same\n",
    "print(np.all(X_test == X_test_load))\n",
    "# check if Y_train and Y_train_load are the same\n",
    "print(np.all(Y_train == Y_train_load))\n",
    "# check if Y_test and Y_test_load are the same\n",
    "print(np.all(Y_test == Y_test_load))"
   ]
  }
 ],
 "metadata": {
  "kernelspec": {
   "display_name": "imagebind",
   "language": "python",
   "name": "python3"
  },
  "language_info": {
   "codemirror_mode": {
    "name": "ipython",
    "version": 3
   },
   "file_extension": ".py",
   "mimetype": "text/x-python",
   "name": "python",
   "nbconvert_exporter": "python",
   "pygments_lexer": "ipython3",
   "version": "3.8.16"
  },
  "orig_nbformat": 4
 },
 "nbformat": 4,
 "nbformat_minor": 2
}
